{
 "cells": [
  {
   "cell_type": "markdown",
   "metadata": {},
   "source": [
    "# 1、背景描述"
   ]
  },
  {
   "cell_type": "markdown",
   "metadata": {},
   "source": [
    "在一个 Stroop （斯特鲁普）任务中，参与者得到了一列文字，每个文字都用一种油墨颜色展示。参与者的任务是将文字的打印颜色大声说出来。这项任务有两个条件：一致文字条件，和不一致文字条件。在一致文字条件中，显示的文字是与它们的打印颜色匹配的颜色词，如“红色”、“蓝色”。在不一致文字条件中，显示的文字是与它们的打印颜色不匹配的颜色词，如“紫色”、“橙色”。在每个情况中，我们将计量说出同等大小的列表中的墨色名称的时间。每位参与者必须全部完成并记录每种条件下使用的时间。"
   ]
  },
  {
   "cell_type": "markdown",
   "metadata": {},
   "source": [
    "# 2、问题处理"
   ]
  },
  {
   "cell_type": "code",
   "execution_count": 1,
   "metadata": {
    "collapsed": true
   },
   "outputs": [],
   "source": [
    "import pandas as pd\n",
    "import numpy as np\n",
    "import matplotlib.pyplot as plt\n",
    "%matplotlib inline"
   ]
  },
  {
   "cell_type": "markdown",
   "metadata": {},
   "source": [
    "## 2.1数据评估和处理"
   ]
  },
  {
   "cell_type": "code",
   "execution_count": 2,
   "metadata": {},
   "outputs": [
    {
     "data": {
      "text/html": [
       "<div>\n",
       "<style>\n",
       "    .dataframe thead tr:only-child th {\n",
       "        text-align: right;\n",
       "    }\n",
       "\n",
       "    .dataframe thead th {\n",
       "        text-align: left;\n",
       "    }\n",
       "\n",
       "    .dataframe tbody tr th {\n",
       "        vertical-align: top;\n",
       "    }\n",
       "</style>\n",
       "<table border=\"1\" class=\"dataframe\">\n",
       "  <thead>\n",
       "    <tr style=\"text-align: right;\">\n",
       "      <th></th>\n",
       "      <th>Congruent</th>\n",
       "      <th>Incongruent</th>\n",
       "    </tr>\n",
       "  </thead>\n",
       "  <tbody>\n",
       "    <tr>\n",
       "      <th>0</th>\n",
       "      <td>12.079</td>\n",
       "      <td>19.278</td>\n",
       "    </tr>\n",
       "    <tr>\n",
       "      <th>1</th>\n",
       "      <td>16.791</td>\n",
       "      <td>18.741</td>\n",
       "    </tr>\n",
       "    <tr>\n",
       "      <th>2</th>\n",
       "      <td>9.564</td>\n",
       "      <td>21.214</td>\n",
       "    </tr>\n",
       "    <tr>\n",
       "      <th>3</th>\n",
       "      <td>8.630</td>\n",
       "      <td>15.687</td>\n",
       "    </tr>\n",
       "    <tr>\n",
       "      <th>4</th>\n",
       "      <td>14.669</td>\n",
       "      <td>22.803</td>\n",
       "    </tr>\n",
       "  </tbody>\n",
       "</table>\n",
       "</div>"
      ],
      "text/plain": [
       "   Congruent  Incongruent\n",
       "0     12.079       19.278\n",
       "1     16.791       18.741\n",
       "2      9.564       21.214\n",
       "3      8.630       15.687\n",
       "4     14.669       22.803"
      ]
     },
     "execution_count": 2,
     "metadata": {},
     "output_type": "execute_result"
    }
   ],
   "source": [
    "# 查看数据集的基本信息\n",
    "df = pd.read_csv('stroopdata.csv')\n",
    "df.head()"
   ]
  },
  {
   "cell_type": "markdown",
   "metadata": {},
   "source": [
    "### 2.1.1 数据类型"
   ]
  },
  {
   "cell_type": "code",
   "execution_count": 3,
   "metadata": {},
   "outputs": [
    {
     "name": "stdout",
     "output_type": "stream",
     "text": [
      "<class 'pandas.core.frame.DataFrame'>\n",
      "RangeIndex: 24 entries, 0 to 23\n",
      "Data columns (total 2 columns):\n",
      "Congruent      24 non-null float64\n",
      "Incongruent    24 non-null float64\n",
      "dtypes: float64(2)\n",
      "memory usage: 456.0 bytes\n"
     ]
    }
   ],
   "source": [
    "df.info()"
   ]
  },
  {
   "cell_type": "markdown",
   "metadata": {},
   "source": [
    "小结：类型均为 float"
   ]
  },
  {
   "cell_type": "markdown",
   "metadata": {},
   "source": [
    "### 2.1.2 检查是否有缺失值"
   ]
  },
  {
   "cell_type": "code",
   "execution_count": 4,
   "metadata": {},
   "outputs": [
    {
     "data": {
      "text/plain": [
       "Congruent      0\n",
       "Incongruent    0\n",
       "dtype: int64"
      ]
     },
     "execution_count": 4,
     "metadata": {},
     "output_type": "execute_result"
    }
   ],
   "source": [
    "df.isnull().sum()"
   ]
  },
  {
   "cell_type": "markdown",
   "metadata": {},
   "source": [
    "小结：无缺失值"
   ]
  },
  {
   "cell_type": "markdown",
   "metadata": {},
   "source": [
    "### 2.1.3 检查数据是否冗余"
   ]
  },
  {
   "cell_type": "code",
   "execution_count": 5,
   "metadata": {},
   "outputs": [
    {
     "data": {
      "text/plain": [
       "0"
      ]
     },
     "execution_count": 5,
     "metadata": {},
     "output_type": "execute_result"
    }
   ],
   "source": [
    "sum(df.duplicated())"
   ]
  },
  {
   "cell_type": "markdown",
   "metadata": {},
   "source": [
    "小结：数据无冗余"
   ]
  },
  {
   "cell_type": "markdown",
   "metadata": {},
   "source": [
    "### 2.1.4 检查数据是否存在异常值"
   ]
  },
  {
   "cell_type": "code",
   "execution_count": 6,
   "metadata": {},
   "outputs": [
    {
     "data": {
      "image/png": "[encoded data removed]",
      "text/plain": [
       "<matplotlib.figure.Figure at 0xab4b320>"
      ]
     },
     "metadata": {},
     "output_type": "display_data"
    }
   ],
   "source": [
    "# 查看箱线图\n",
    "fig,axes = plt.subplots(1,2,figsize=(12,6))\n",
    "\n",
    "axes[0].set_ylabel('test_time')\n",
    "axes[1].set_ylabel('test_time')\n",
    "\n",
    "axes[0].set_title('Congruent Test')\n",
    "axes[1].set_title('Incongruent Test')\n",
    "\n",
    "fig.suptitle('Examine Outliers By Box Plots')\n",
    "fig.subplots_adjust(wspace=0.5)\n",
    "\n",
    "df.Congruent.plot(ax=axes[0], kind='box')\n",
    "df.Incongruent.plot(ax=axes[1], kind='box')\n",
    "\n",
    "plt.show();"
   ]
  },
  {
   "cell_type": "markdown",
   "metadata": {},
   "source": [
    "小结：可以看到Incongruent以上存在两个异常值，这里，我选择剔除掉"
   ]
  },
  {
   "cell_type": "code",
   "execution_count": 7,
   "metadata": {},
   "outputs": [
    {
     "data": {
      "text/html": [
       "<div>\n",
       "<style>\n",
       "    .dataframe thead tr:only-child th {\n",
       "        text-align: right;\n",
       "    }\n",
       "\n",
       "    .dataframe thead th {\n",
       "        text-align: left;\n",
       "    }\n",
       "\n",
       "    .dataframe tbody tr th {\n",
       "        vertical-align: top;\n",
       "    }\n",
       "</style>\n",
       "<table border=\"1\" class=\"dataframe\">\n",
       "  <thead>\n",
       "    <tr style=\"text-align: right;\">\n",
       "      <th></th>\n",
       "      <th>Congruent</th>\n",
       "      <th>Incongruent</th>\n",
       "    </tr>\n",
       "  </thead>\n",
       "  <tbody>\n",
       "    <tr>\n",
       "      <th>14</th>\n",
       "      <td>18.200</td>\n",
       "      <td>35.255</td>\n",
       "    </tr>\n",
       "    <tr>\n",
       "      <th>19</th>\n",
       "      <td>12.369</td>\n",
       "      <td>34.288</td>\n",
       "    </tr>\n",
       "    <tr>\n",
       "      <th>9</th>\n",
       "      <td>14.480</td>\n",
       "      <td>26.282</td>\n",
       "    </tr>\n",
       "    <tr>\n",
       "      <th>16</th>\n",
       "      <td>18.495</td>\n",
       "      <td>25.139</td>\n",
       "    </tr>\n",
       "    <tr>\n",
       "      <th>6</th>\n",
       "      <td>14.692</td>\n",
       "      <td>24.572</td>\n",
       "    </tr>\n",
       "  </tbody>\n",
       "</table>\n",
       "</div>"
      ],
      "text/plain": [
       "    Congruent  Incongruent\n",
       "14     18.200       35.255\n",
       "19     12.369       34.288\n",
       "9      14.480       26.282\n",
       "16     18.495       25.139\n",
       "6      14.692       24.572"
      ]
     },
     "execution_count": 7,
     "metadata": {},
     "output_type": "execute_result"
    }
   ],
   "source": [
    "# 查看异常值所在行\n",
    "df_clean = df.copy(deep=True) # 备份df数据\n",
    "df_clean.sort_values(['Incongruent'],ascending=False).head() # 查看异常值所在行，由于只有两个，使用head()"
   ]
  },
  {
   "cell_type": "code",
   "execution_count": 8,
   "metadata": {},
   "outputs": [
    {
     "data": {
      "text/html": [
       "<div>\n",
       "<style>\n",
       "    .dataframe thead tr:only-child th {\n",
       "        text-align: right;\n",
       "    }\n",
       "\n",
       "    .dataframe thead th {\n",
       "        text-align: left;\n",
       "    }\n",
       "\n",
       "    .dataframe tbody tr th {\n",
       "        vertical-align: top;\n",
       "    }\n",
       "</style>\n",
       "<table border=\"1\" class=\"dataframe\">\n",
       "  <thead>\n",
       "    <tr style=\"text-align: right;\">\n",
       "      <th></th>\n",
       "      <th>Congruent</th>\n",
       "      <th>Incongruent</th>\n",
       "    </tr>\n",
       "  </thead>\n",
       "  <tbody>\n",
       "    <tr>\n",
       "      <th>14</th>\n",
       "      <td>18.200</td>\n",
       "      <td>35.255</td>\n",
       "    </tr>\n",
       "    <tr>\n",
       "      <th>19</th>\n",
       "      <td>12.369</td>\n",
       "      <td>34.288</td>\n",
       "    </tr>\n",
       "  </tbody>\n",
       "</table>\n",
       "</div>"
      ],
      "text/plain": [
       "    Congruent  Incongruent\n",
       "14     18.200       35.255\n",
       "19     12.369       34.288"
      ]
     },
     "execution_count": 8,
     "metadata": {},
     "output_type": "execute_result"
    }
   ],
   "source": [
    "# 这里我们通过以上的Incongruent Test 图，也可看出，异常值是大于30.0的，\n",
    "# 可以直接筛选\n",
    "df[df.Incongruent>30.0]"
   ]
  },
  {
   "cell_type": "markdown",
   "metadata": {},
   "source": [
    "#### 可以看出异常值是在index=14 和index=19这两个位置"
   ]
  },
  {
   "cell_type": "code",
   "execution_count": 9,
   "metadata": {},
   "outputs": [
    {
     "data": {
      "text/html": [
       "<div>\n",
       "<style>\n",
       "    .dataframe thead tr:only-child th {\n",
       "        text-align: right;\n",
       "    }\n",
       "\n",
       "    .dataframe thead th {\n",
       "        text-align: left;\n",
       "    }\n",
       "\n",
       "    .dataframe tbody tr th {\n",
       "        vertical-align: top;\n",
       "    }\n",
       "</style>\n",
       "<table border=\"1\" class=\"dataframe\">\n",
       "  <thead>\n",
       "    <tr style=\"text-align: right;\">\n",
       "      <th></th>\n",
       "      <th>Congruent</th>\n",
       "      <th>Incongruent</th>\n",
       "    </tr>\n",
       "  </thead>\n",
       "  <tbody>\n",
       "    <tr>\n",
       "      <th>9</th>\n",
       "      <td>14.480</td>\n",
       "      <td>26.282</td>\n",
       "    </tr>\n",
       "    <tr>\n",
       "      <th>16</th>\n",
       "      <td>18.495</td>\n",
       "      <td>25.139</td>\n",
       "    </tr>\n",
       "    <tr>\n",
       "      <th>6</th>\n",
       "      <td>14.692</td>\n",
       "      <td>24.572</td>\n",
       "    </tr>\n",
       "    <tr>\n",
       "      <th>10</th>\n",
       "      <td>22.328</td>\n",
       "      <td>24.524</td>\n",
       "    </tr>\n",
       "    <tr>\n",
       "      <th>20</th>\n",
       "      <td>12.944</td>\n",
       "      <td>23.894</td>\n",
       "    </tr>\n",
       "    <tr>\n",
       "      <th>4</th>\n",
       "      <td>14.669</td>\n",
       "      <td>22.803</td>\n",
       "    </tr>\n",
       "    <tr>\n",
       "      <th>15</th>\n",
       "      <td>12.130</td>\n",
       "      <td>22.158</td>\n",
       "    </tr>\n",
       "    <tr>\n",
       "      <th>22</th>\n",
       "      <td>19.710</td>\n",
       "      <td>22.058</td>\n",
       "    </tr>\n",
       "    <tr>\n",
       "      <th>2</th>\n",
       "      <td>9.564</td>\n",
       "      <td>21.214</td>\n",
       "    </tr>\n",
       "    <tr>\n",
       "      <th>23</th>\n",
       "      <td>16.004</td>\n",
       "      <td>21.157</td>\n",
       "    </tr>\n",
       "    <tr>\n",
       "      <th>5</th>\n",
       "      <td>12.238</td>\n",
       "      <td>20.878</td>\n",
       "    </tr>\n",
       "    <tr>\n",
       "      <th>8</th>\n",
       "      <td>9.401</td>\n",
       "      <td>20.762</td>\n",
       "    </tr>\n",
       "    <tr>\n",
       "      <th>17</th>\n",
       "      <td>10.639</td>\n",
       "      <td>20.429</td>\n",
       "    </tr>\n",
       "    <tr>\n",
       "      <th>13</th>\n",
       "      <td>16.929</td>\n",
       "      <td>20.330</td>\n",
       "    </tr>\n",
       "    <tr>\n",
       "      <th>0</th>\n",
       "      <td>12.079</td>\n",
       "      <td>19.278</td>\n",
       "    </tr>\n",
       "    <tr>\n",
       "      <th>1</th>\n",
       "      <td>16.791</td>\n",
       "      <td>18.741</td>\n",
       "    </tr>\n",
       "    <tr>\n",
       "      <th>11</th>\n",
       "      <td>15.298</td>\n",
       "      <td>18.644</td>\n",
       "    </tr>\n",
       "    <tr>\n",
       "      <th>21</th>\n",
       "      <td>14.233</td>\n",
       "      <td>17.960</td>\n",
       "    </tr>\n",
       "    <tr>\n",
       "      <th>12</th>\n",
       "      <td>15.073</td>\n",
       "      <td>17.510</td>\n",
       "    </tr>\n",
       "    <tr>\n",
       "      <th>18</th>\n",
       "      <td>11.344</td>\n",
       "      <td>17.425</td>\n",
       "    </tr>\n",
       "    <tr>\n",
       "      <th>7</th>\n",
       "      <td>8.987</td>\n",
       "      <td>17.394</td>\n",
       "    </tr>\n",
       "    <tr>\n",
       "      <th>3</th>\n",
       "      <td>8.630</td>\n",
       "      <td>15.687</td>\n",
       "    </tr>\n",
       "  </tbody>\n",
       "</table>\n",
       "</div>"
      ],
      "text/plain": [
       "    Congruent  Incongruent\n",
       "9      14.480       26.282\n",
       "16     18.495       25.139\n",
       "6      14.692       24.572\n",
       "10     22.328       24.524\n",
       "20     12.944       23.894\n",
       "4      14.669       22.803\n",
       "15     12.130       22.158\n",
       "22     19.710       22.058\n",
       "2       9.564       21.214\n",
       "23     16.004       21.157\n",
       "5      12.238       20.878\n",
       "8       9.401       20.762\n",
       "17     10.639       20.429\n",
       "13     16.929       20.330\n",
       "0      12.079       19.278\n",
       "1      16.791       18.741\n",
       "11     15.298       18.644\n",
       "21     14.233       17.960\n",
       "12     15.073       17.510\n",
       "18     11.344       17.425\n",
       "7       8.987       17.394\n",
       "3       8.630       15.687"
      ]
     },
     "execution_count": 9,
     "metadata": {},
     "output_type": "execute_result"
    }
   ],
   "source": [
    "df_clean.drop([14, 19],inplace=True) # 剔除异常值所在行\n",
    "df_clean.sort_values(['Incongruent'],ascending=False)"
   ]
  },
  {
   "cell_type": "markdown",
   "metadata": {},
   "source": [
    "## 2.2 假设检验&计算过程"
   ]
  },
  {
   "cell_type": "markdown",
   "metadata": {},
   "source": [
    "### 2.2.1 自变量与因变量"
   ]
  },
  {
   "cell_type": "markdown",
   "metadata": {},
   "source": [
    "自变量：文字条件（文字与文字颜色一致和不一致两种条件）\n",
    "\n",
    "因变量：参与者在对应文字条件下，完成测试所用的时间"
   ]
  },
  {
   "cell_type": "markdown",
   "metadata": {},
   "source": [
    "### 2.2.2假设"
   ]
  },
  {
   "cell_type": "markdown",
   "metadata": {},
   "source": [
    "__文字描述__：\n",
    "\n",
    "零假设（$H_0$）：受试者在两种文字条件下完成测试所用的时间没有显著差异\n",
    "\n",
    "备用假设（$H_A$）：受试者在两种文字条件下完成测试所用的时间有显著差异"
   ]
  },
  {
   "cell_type": "markdown",
   "metadata": {},
   "source": [
    "__数学描述__：\n",
    "\n",
    "$H_0$:μ1=μ2 \n",
    "\n",
    "$H_A$:μ1≠μ2 \n",
    "\n",
    "注： \n",
    ">μ1 代表在文字与颜色一致条件(Congruent)下，受试者完成测试所用时间的总体均值\n",
    "\n",
    ">μ2 代表在文字与颜色不一致条件(Incongruent)下，受试者完成测试所用时间的总体均值"
   ]
  },
  {
   "cell_type": "code",
   "execution_count": 10,
   "metadata": {},
   "outputs": [
    {
     "data": {
      "text/html": [
       "<div>\n",
       "<style>\n",
       "    .dataframe thead tr:only-child th {\n",
       "        text-align: right;\n",
       "    }\n",
       "\n",
       "    .dataframe thead th {\n",
       "        text-align: left;\n",
       "    }\n",
       "\n",
       "    .dataframe tbody tr th {\n",
       "        vertical-align: top;\n",
       "    }\n",
       "</style>\n",
       "<table border=\"1\" class=\"dataframe\">\n",
       "  <thead>\n",
       "    <tr style=\"text-align: right;\">\n",
       "      <th></th>\n",
       "      <th>Congruent</th>\n",
       "      <th>Incongruent</th>\n",
       "      <th>xd</th>\n",
       "    </tr>\n",
       "  </thead>\n",
       "  <tbody>\n",
       "    <tr>\n",
       "      <th>0</th>\n",
       "      <td>12.079</td>\n",
       "      <td>19.278</td>\n",
       "      <td>-7.199</td>\n",
       "    </tr>\n",
       "    <tr>\n",
       "      <th>1</th>\n",
       "      <td>16.791</td>\n",
       "      <td>18.741</td>\n",
       "      <td>-1.950</td>\n",
       "    </tr>\n",
       "    <tr>\n",
       "      <th>2</th>\n",
       "      <td>9.564</td>\n",
       "      <td>21.214</td>\n",
       "      <td>-11.650</td>\n",
       "    </tr>\n",
       "    <tr>\n",
       "      <th>3</th>\n",
       "      <td>8.630</td>\n",
       "      <td>15.687</td>\n",
       "      <td>-7.057</td>\n",
       "    </tr>\n",
       "    <tr>\n",
       "      <th>4</th>\n",
       "      <td>14.669</td>\n",
       "      <td>22.803</td>\n",
       "      <td>-8.134</td>\n",
       "    </tr>\n",
       "  </tbody>\n",
       "</table>\n",
       "</div>"
      ],
      "text/plain": [
       "   Congruent  Incongruent      xd\n",
       "0     12.079       19.278  -7.199\n",
       "1     16.791       18.741  -1.950\n",
       "2      9.564       21.214 -11.650\n",
       "3      8.630       15.687  -7.057\n",
       "4     14.669       22.803  -8.134"
      ]
     },
     "execution_count": 10,
     "metadata": {},
     "output_type": "execute_result"
    }
   ],
   "source": [
    "# 增添新列，Congruent 与 Incongruent 的差值列，记为 xd\n",
    "df_clean['xd'] = df_clean.Congruent - df_clean.Incongruent\n",
    "df_clean.head()"
   ]
  },
  {
   "cell_type": "markdown",
   "metadata": {},
   "source": [
    "### 2.2.3检验方式"
   ]
  },
  {
   "cell_type": "markdown",
   "metadata": {},
   "source": [
    "基于以上假设，由于总体参数未知，选取t检验，这里是探究的是两种条件下总体均值是否有显著差异（事先不知道差异方向），故选用双尾t检验\n",
    "\n",
    "取α= 0.05"
   ]
  },
  {
   "cell_type": "markdown",
   "metadata": {},
   "source": [
    "__t检验前提条件是否满足？__"
   ]
  },
  {
   "cell_type": "markdown",
   "metadata": {},
   "source": [
    "1:自变量有两种取值?\n",
    ">此样本为相依样本，每组自变量是两种不同条件，条件满足\n",
    "\n",
    "2：连续因变量?\n",
    ">这里因为数据只有24组，初看测试时间是离散的，但是当数据量足够大时，测试时间确实是在某个范围，在（0，max_value）中连续分布的，条件满足。\n",
    "(这里max_value,我是指测试总体所得到的最大测试时间)\n",
    "\n",
    "3：样本中每组配对的差值相互独立?\n",
    ">测试者之间是相互独立的，条件满足\n",
    "\n",
    "4：样本近似接近正态分布?\n",
    ">可以通过核密度曲线看出样本近似呈正态分布，条件满足"
   ]
  },
  {
   "cell_type": "code",
   "execution_count": 11,
   "metadata": {},
   "outputs": [
    {
     "data": {
      "image/png": "[encoded data removed]",
      "text/plain": [
       "<matplotlib.figure.Figure at 0xaa66e48>"
      ]
     },
     "metadata": {},
     "output_type": "display_data"
    }
   ],
   "source": [
    "# 核密度曲线\n",
    "df_clean.plot(kind='kde',figsize=(16,8))\n",
    "plt.title('KDE Curve')\n",
    "plt.xlabel('time');"
   ]
  },
  {
   "cell_type": "markdown",
   "metadata": {},
   "source": [
    "### 2.2.4使用公式"
   ]
  },
  {
   "cell_type": "markdown",
   "metadata": {},
   "source": [
    "### 已经确定为t检验，且处理对象为相依样本，使用公式如下\n",
    "### t值\n",
    "\n",
    "### $t_{statistic}= \\frac{MD}{SEM}$\n",
    ">t 统计量\n",
    "\n",
    ">### $MD = \\bar{X}-\\bar{Y}$\n",
    ">> X和Y数据均值差异\n",
    "\n",
    ">> 这里X和Y分别对应数据中的一致条件和不一致条件所耗费时间\n",
    "\n",
    ">### $SEM = \\frac{SD}{\\sqrt{n}}$\n",
    "\n",
    ">> X和Y数据差值的样本偏差\n",
    "\n",
    ">>### $SD = \\sqrt{\\frac{\\sum_{i=1}^n\\left[\\left(x_i-y_i\\right) - MD\\right]^2}{n-1}}$\n",
    "\n",
    "## $t_{critical}$ \n",
    ">t 临界值\n",
    ">#### 需要根据自由度DF 和 $\\alpha$ 查t分布表\n",
    ">>DF = n - 1\n",
    "\n",
    ">>这里取$\\alpha = 0.5$\n",
    "\n",
    "### 几个效应量\n",
    "\n",
    "### $ CI = (MD - ME, MD + ME )$\n",
    ">置信区间\n",
    ">### $ME = t_{critical}\\frac{SD}{\\sqrt{n}}$\n",
    ">>误差范围\n",
    "\n",
    "\n",
    "### $ Cohen's \\ d = \\frac{MD}{SD}$\n",
    "\n",
    "### $r^2 = \\frac{t_{statistic}^2}{t_{statistic}^2 + DF}$"
   ]
  },
  {
   "cell_type": "markdown",
   "metadata": {},
   "source": [
    "### 2.2.5描述性统计结果"
   ]
  },
  {
   "cell_type": "code",
   "execution_count": 12,
   "metadata": {},
   "outputs": [
    {
     "data": {
      "text/html": [
       "<div>\n",
       "<style>\n",
       "    .dataframe thead tr:only-child th {\n",
       "        text-align: right;\n",
       "    }\n",
       "\n",
       "    .dataframe thead th {\n",
       "        text-align: left;\n",
       "    }\n",
       "\n",
       "    .dataframe tbody tr th {\n",
       "        vertical-align: top;\n",
       "    }\n",
       "</style>\n",
       "<table border=\"1\" class=\"dataframe\">\n",
       "  <thead>\n",
       "    <tr style=\"text-align: right;\">\n",
       "      <th></th>\n",
       "      <th>Congruent</th>\n",
       "      <th>Incongruent</th>\n",
       "      <th>xd</th>\n",
       "    </tr>\n",
       "  </thead>\n",
       "  <tbody>\n",
       "    <tr>\n",
       "      <th>count</th>\n",
       "      <td>22.000000</td>\n",
       "      <td>22.000000</td>\n",
       "      <td>22.000000</td>\n",
       "    </tr>\n",
       "    <tr>\n",
       "      <th>mean</th>\n",
       "      <td>13.939000</td>\n",
       "      <td>20.856318</td>\n",
       "      <td>-6.917318</td>\n",
       "    </tr>\n",
       "    <tr>\n",
       "      <th>std</th>\n",
       "      <td>3.592773</td>\n",
       "      <td>2.876923</td>\n",
       "      <td>3.400562</td>\n",
       "    </tr>\n",
       "    <tr>\n",
       "      <th>min</th>\n",
       "      <td>8.630000</td>\n",
       "      <td>15.687000</td>\n",
       "      <td>-11.802000</td>\n",
       "    </tr>\n",
       "    <tr>\n",
       "      <th>25%</th>\n",
       "      <td>11.527750</td>\n",
       "      <td>18.668250</td>\n",
       "      <td>-9.857500</td>\n",
       "    </tr>\n",
       "    <tr>\n",
       "      <th>50%</th>\n",
       "      <td>14.356500</td>\n",
       "      <td>20.820000</td>\n",
       "      <td>-7.128000</td>\n",
       "    </tr>\n",
       "    <tr>\n",
       "      <th>75%</th>\n",
       "      <td>15.827500</td>\n",
       "      <td>22.641750</td>\n",
       "      <td>-3.482500</td>\n",
       "    </tr>\n",
       "    <tr>\n",
       "      <th>max</th>\n",
       "      <td>22.328000</td>\n",
       "      <td>26.282000</td>\n",
       "      <td>-1.950000</td>\n",
       "    </tr>\n",
       "  </tbody>\n",
       "</table>\n",
       "</div>"
      ],
      "text/plain": [
       "       Congruent  Incongruent         xd\n",
       "count  22.000000    22.000000  22.000000\n",
       "mean   13.939000    20.856318  -6.917318\n",
       "std     3.592773     2.876923   3.400562\n",
       "min     8.630000    15.687000 -11.802000\n",
       "25%    11.527750    18.668250  -9.857500\n",
       "50%    14.356500    20.820000  -7.128000\n",
       "75%    15.827500    22.641750  -3.482500\n",
       "max    22.328000    26.282000  -1.950000"
      ]
     },
     "execution_count": 12,
     "metadata": {},
     "output_type": "execute_result"
    }
   ],
   "source": [
    "# 查看描述性统计结果\n",
    "df_clean.describe()"
   ]
  },
  {
   "cell_type": "code",
   "execution_count": 13,
   "metadata": {
    "scrolled": true
   },
   "outputs": [
    {
     "data": {
      "text/plain": [
       "(13.939, 20.85631818181818)"
      ]
     },
     "execution_count": 13,
     "metadata": {},
     "output_type": "execute_result"
    }
   ],
   "source": [
    "# 这里我先定义以下变量，方便后面计算使用\n",
    "\n",
    "SD = df_clean.xd.std(ddof=1)         # Congruent与Incongruent的差异（xd）的标准误差\n",
    "x1_bar = df_clean.Congruent.mean()   # Congruent列数据均值\n",
    "x2_bar = df_clean.Incongruent.mean() # Incongruent列数据均值\n",
    "x_bar_d = x1_bar - x2_bar            # Congruent与Incongruent列数据均值差异\n",
    "x1_bar,x2_bar"
   ]
  },
  {
   "cell_type": "code",
   "execution_count": 14,
   "metadata": {},
   "outputs": [
    {
     "data": {
      "text/plain": [
       "(3.5927730104700335, 2.8769225023304994)"
      ]
     },
     "execution_count": 14,
     "metadata": {},
     "output_type": "execute_result"
    }
   ],
   "source": [
    "# 注意：std上描述的是样本误差，非总体标准差,可以通过以下验证\n",
    "df_clean['Congruent'].std(ddof=1),df_clean['Incongruent'].std(ddof=1)"
   ]
  },
  {
   "cell_type": "markdown",
   "metadata": {},
   "source": [
    "### 2.2.6推论性统计结果"
   ]
  },
  {
   "cell_type": "code",
   "execution_count": 15,
   "metadata": {},
   "outputs": [
    {
     "name": "stdout",
     "output_type": "stream",
     "text": [
      "<class 'pandas.core.frame.DataFrame'>\n",
      "Int64Index: 22 entries, 0 to 23\n",
      "Data columns (total 3 columns):\n",
      "Congruent      22 non-null float64\n",
      "Incongruent    22 non-null float64\n",
      "xd             22 non-null float64\n",
      "dtypes: float64(3)\n",
      "memory usage: 704.0 bytes\n"
     ]
    }
   ],
   "source": [
    "df_clean.info()"
   ]
  },
  {
   "cell_type": "markdown",
   "metadata": {},
   "source": [
    "#### t 临界值"
   ]
  },
  {
   "cell_type": "code",
   "execution_count": 16,
   "metadata": {},
   "outputs": [
    {
     "data": {
      "text/plain": [
       "(22, 3)"
      ]
     },
     "execution_count": 16,
     "metadata": {},
     "output_type": "execute_result"
    }
   ],
   "source": [
    "df_clean.shape"
   ]
  },
  {
   "cell_type": "code",
   "execution_count": 17,
   "metadata": {
    "collapsed": true
   },
   "outputs": [],
   "source": [
    "#这里取的是 α= 0.5，双尾检验下的部分t临界值\n",
    "\n",
    "# 因为前面我筛选掉了2行数据，那么实际数据只有22行，对应自由度 DF = 21\n",
    "# 如果不剔除数据，那么，应该取DF = 23\n",
    "# 这里，考虑到以上两种，我做了个字典，方便（剔除/不剔除）调用\n",
    "t_critical_values = {20:2.086,\n",
    "                     21:2.080,\n",
    "                     22:2.074,\n",
    "                     23:2.069,\n",
    "                     24:2.064}"
   ]
  },
  {
   "cell_type": "code",
   "execution_count": 18,
   "metadata": {},
   "outputs": [
    {
     "data": {
      "text/plain": [
       "(21, 2.08)"
      ]
     },
     "execution_count": 18,
     "metadata": {},
     "output_type": "execute_result"
    }
   ],
   "source": [
    "n = df_clean.shape[0] # 样本数\n",
    "DF = n - 1 # 自由度\n",
    "t_critical = t_critical_values[DF] # t 临界值\n",
    "DF,t_critical"
   ]
  },
  {
   "cell_type": "markdown",
   "metadata": {},
   "source": [
    "![t-table](t-table.jpg)"
   ]
  },
  {
   "cell_type": "markdown",
   "metadata": {},
   "source": [
    "#### t 统计量"
   ]
  },
  {
   "cell_type": "code",
   "execution_count": 19,
   "metadata": {},
   "outputs": [
    {
     "data": {
      "text/plain": [
       "-9.54109990849218"
      ]
     },
     "execution_count": 19,
     "metadata": {},
     "output_type": "execute_result"
    }
   ],
   "source": [
    "# 计算 t 统计量\n",
    "t_statictic = (x1_bar - x2_bar)/(SD/n**0.5)\n",
    "t_statictic"
   ]
  },
  {
   "cell_type": "markdown",
   "metadata": {},
   "source": [
    "小结：因为 t 统计量已经超过这个t 临界值，位于临界区内，\n",
    "所以拒绝零假设，这意味着，Congruent和Incongruent测试下\n",
    "所用时间是具有显著性差异的"
   ]
  },
  {
   "cell_type": "markdown",
   "metadata": {},
   "source": [
    "#### Cohen’s d"
   ]
  },
  {
   "cell_type": "code",
   "execution_count": 20,
   "metadata": {},
   "outputs": [
    {
     "data": {
      "text/plain": [
       "-2.034169335310982"
      ]
     },
     "execution_count": 20,
     "metadata": {},
     "output_type": "execute_result"
    }
   ],
   "source": [
    "x_bar_d/SD"
   ]
  },
  {
   "cell_type": "markdown",
   "metadata": {},
   "source": [
    "反应出，样本差异的均值距离大约2个样本偏差"
   ]
  },
  {
   "cell_type": "markdown",
   "metadata": {},
   "source": [
    "### $r^2$"
   ]
  },
  {
   "cell_type": "code",
   "execution_count": 21,
   "metadata": {},
   "outputs": [
    {
     "data": {
      "text/plain": [
       "0.8125545390373136"
      ]
     },
     "execution_count": 21,
     "metadata": {},
     "output_type": "execute_result"
    }
   ],
   "source": [
    "t = t_statictic\n",
    "r_square = t**2/(t**2+DF)\n",
    "r_square"
   ]
  },
  {
   "cell_type": "code",
   "execution_count": 22,
   "metadata": {},
   "outputs": [
    {
     "name": "stdout",
     "output_type": "stream",
     "text": [
      "小结：可以看出,两者之间的 81.26% 差异是由于文字颜色不一致的情况所致\n"
     ]
    }
   ],
   "source": [
    "r_pert = r_square * 100\n",
    "print('小结：可以看出,两者之间的 %.2f' % r_pert + '% 差异是由于文字颜色不一致的情况所致')"
   ]
  },
  {
   "cell_type": "markdown",
   "metadata": {},
   "source": [
    "#### 误差范围（margin of error）"
   ]
  },
  {
   "cell_type": "code",
   "execution_count": 23,
   "metadata": {},
   "outputs": [
    {
     "data": {
      "text/plain": [
       "1.5080045231866372"
      ]
     },
     "execution_count": 23,
     "metadata": {},
     "output_type": "execute_result"
    }
   ],
   "source": [
    "ME = t_critical * (SD/n**0.5) # 误差范围 \n",
    "ME"
   ]
  },
  {
   "cell_type": "markdown",
   "metadata": {},
   "source": [
    "#### 置信区间（confidence interval）"
   ]
  },
  {
   "cell_type": "code",
   "execution_count": 24,
   "metadata": {},
   "outputs": [
    {
     "data": {
      "text/plain": [
       "(-8.425322705004819, -5.409313658631545)"
      ]
     },
     "execution_count": 24,
     "metadata": {},
     "output_type": "execute_result"
    }
   ],
   "source": [
    "CI = (x_bar_d-ME, x_bar_d+ME) # 这里我用元组来表示置信区间的上下限\n",
    "CI"
   ]
  },
  {
   "cell_type": "code",
   "execution_count": 25,
   "metadata": {},
   "outputs": [
    {
     "name": "stdout",
     "output_type": "stream",
     "text": [
      "小结：可以看出，平均下来，Congruent组的反应时间要比Incongruent组的快 5.4 到 8.4 秒\n"
     ]
    }
   ],
   "source": [
    "print('小结：可以看出，平均下来，Congruent组的反应时间要比Incongruent组的快 %.1f 到 %.1f 秒' % (-CI[1],-CI[0]))"
   ]
  },
  {
   "cell_type": "markdown",
   "metadata": {},
   "source": [
    "#### P值"
   ]
  },
  {
   "cell_type": "markdown",
   "metadata": {},
   "source": [
    "查看对应P值\n",
    "参数选择为\n",
    ">t = -9.54\n",
    "\n",
    ">DF = 21\n",
    "\n",
    "https://www.graphpad.com/quickcalcs/pValue1/"
   ]
  },
  {
   "cell_type": "markdown",
   "metadata": {},
   "source": [
    "网站对应结果如下"
   ]
  },
  {
   "cell_type": "markdown",
   "metadata": {},
   "source": [
    "t = -9.54   DF=21   \n",
    "   The two-tailed P value is less than 0.0001 "
   ]
  },
  {
   "cell_type": "markdown",
   "metadata": {},
   "source": [
    "小结：由于 P < 0.0001 ，即 P < α，故认为 Congruent 和 Incongruent 两种测试是存在显著差异的"
   ]
  },
  {
   "cell_type": "markdown",
   "metadata": {},
   "source": [
    "### 2.2.7几个分布图"
   ]
  },
  {
   "cell_type": "code",
   "execution_count": 26,
   "metadata": {},
   "outputs": [
    {
     "data": {
      "image/png": "[encoded data removed]",
      "text/plain": [
       "<matplotlib.figure.Figure at 0xcfca9e8>"
      ]
     },
     "metadata": {},
     "output_type": "display_data"
    }
   ],
   "source": [
    "# 查看柱形图\n",
    "df_clean.plot(kind='bar',figsize=(16,8));"
   ]
  },
  {
   "cell_type": "markdown",
   "metadata": {},
   "source": [
    "小结：Incongruent条件下所花费时间均高于Congruent"
   ]
  },
  {
   "cell_type": "code",
   "execution_count": 27,
   "metadata": {},
   "outputs": [
    {
     "data": {
      "image/png": "[encoded data removed]",
      "text/plain": [
       "<matplotlib.figure.Figure at 0xae3eac8>"
      ]
     },
     "metadata": {},
     "output_type": "display_data"
    }
   ],
   "source": [
    "# 查看散点图\n",
    "df_clean.plot('Congruent','Incongruent',kind='scatter',figsize=(8,8));"
   ]
  },
  {
   "cell_type": "code",
   "execution_count": 28,
   "metadata": {},
   "outputs": [
    {
     "data": {
      "text/html": [
       "<div>\n",
       "<style>\n",
       "    .dataframe thead tr:only-child th {\n",
       "        text-align: right;\n",
       "    }\n",
       "\n",
       "    .dataframe thead th {\n",
       "        text-align: left;\n",
       "    }\n",
       "\n",
       "    .dataframe tbody tr th {\n",
       "        vertical-align: top;\n",
       "    }\n",
       "</style>\n",
       "<table border=\"1\" class=\"dataframe\">\n",
       "  <thead>\n",
       "    <tr style=\"text-align: right;\">\n",
       "      <th></th>\n",
       "      <th>Congruent</th>\n",
       "      <th>Incongruent</th>\n",
       "      <th>xd</th>\n",
       "    </tr>\n",
       "  </thead>\n",
       "  <tbody>\n",
       "    <tr>\n",
       "      <th>Congruent</th>\n",
       "      <td>1.000000</td>\n",
       "      <td>0.465401</td>\n",
       "      <td>0.662788</td>\n",
       "    </tr>\n",
       "    <tr>\n",
       "      <th>Incongruent</th>\n",
       "      <td>0.465401</td>\n",
       "      <td>1.000000</td>\n",
       "      <td>-0.354307</td>\n",
       "    </tr>\n",
       "    <tr>\n",
       "      <th>xd</th>\n",
       "      <td>0.662788</td>\n",
       "      <td>-0.354307</td>\n",
       "      <td>1.000000</td>\n",
       "    </tr>\n",
       "  </tbody>\n",
       "</table>\n",
       "</div>"
      ],
      "text/plain": [
       "             Congruent  Incongruent        xd\n",
       "Congruent     1.000000     0.465401  0.662788\n",
       "Incongruent   0.465401     1.000000 -0.354307\n",
       "xd            0.662788    -0.354307  1.000000"
      ]
     },
     "execution_count": 28,
     "metadata": {},
     "output_type": "execute_result"
    }
   ],
   "source": [
    "# 计算相关系数（皮尔逊）\n",
    "corr = df_clean.corr()\n",
    "corr"
   ]
  },
  {
   "cell_type": "code",
   "execution_count": 29,
   "metadata": {
    "scrolled": true
   },
   "outputs": [
    {
     "name": "stdout",
     "output_type": "stream",
     "text": [
      "小结：可以看出，Incongruent与Congruent所花费时间两者呈正相关，（皮尔逊）相关系数为 0.47\n"
     ]
    }
   ],
   "source": [
    "print('小结：可以看出，Incongruent与Congruent所花费时间两者呈正相关，（皮尔逊）相关系数为 %.2f' % corr.loc['Congruent','Incongruent'])"
   ]
  },
  {
   "cell_type": "markdown",
   "metadata": {},
   "source": [
    "# 3、结果"
   ]
  },
  {
   "cell_type": "markdown",
   "metadata": {},
   "source": [
    "## 3.1描述性统计结果"
   ]
  },
  {
   "cell_type": "code",
   "execution_count": 30,
   "metadata": {},
   "outputs": [
    {
     "data": {
      "text/html": [
       "<div>\n",
       "<style>\n",
       "    .dataframe thead tr:only-child th {\n",
       "        text-align: right;\n",
       "    }\n",
       "\n",
       "    .dataframe thead th {\n",
       "        text-align: left;\n",
       "    }\n",
       "\n",
       "    .dataframe tbody tr th {\n",
       "        vertical-align: top;\n",
       "    }\n",
       "</style>\n",
       "<table border=\"1\" class=\"dataframe\">\n",
       "  <thead>\n",
       "    <tr style=\"text-align: right;\">\n",
       "      <th></th>\n",
       "      <th>Congruent</th>\n",
       "      <th>Incongruent</th>\n",
       "      <th>xd</th>\n",
       "    </tr>\n",
       "  </thead>\n",
       "  <tbody>\n",
       "    <tr>\n",
       "      <th>count</th>\n",
       "      <td>22.000000</td>\n",
       "      <td>22.000000</td>\n",
       "      <td>22.000000</td>\n",
       "    </tr>\n",
       "    <tr>\n",
       "      <th>mean</th>\n",
       "      <td>13.939000</td>\n",
       "      <td>20.856318</td>\n",
       "      <td>-6.917318</td>\n",
       "    </tr>\n",
       "    <tr>\n",
       "      <th>std</th>\n",
       "      <td>3.592773</td>\n",
       "      <td>2.876923</td>\n",
       "      <td>3.400562</td>\n",
       "    </tr>\n",
       "    <tr>\n",
       "      <th>min</th>\n",
       "      <td>8.630000</td>\n",
       "      <td>15.687000</td>\n",
       "      <td>-11.802000</td>\n",
       "    </tr>\n",
       "    <tr>\n",
       "      <th>25%</th>\n",
       "      <td>11.527750</td>\n",
       "      <td>18.668250</td>\n",
       "      <td>-9.857500</td>\n",
       "    </tr>\n",
       "    <tr>\n",
       "      <th>50%</th>\n",
       "      <td>14.356500</td>\n",
       "      <td>20.820000</td>\n",
       "      <td>-7.128000</td>\n",
       "    </tr>\n",
       "    <tr>\n",
       "      <th>75%</th>\n",
       "      <td>15.827500</td>\n",
       "      <td>22.641750</td>\n",
       "      <td>-3.482500</td>\n",
       "    </tr>\n",
       "    <tr>\n",
       "      <th>max</th>\n",
       "      <td>22.328000</td>\n",
       "      <td>26.282000</td>\n",
       "      <td>-1.950000</td>\n",
       "    </tr>\n",
       "  </tbody>\n",
       "</table>\n",
       "</div>"
      ],
      "text/plain": [
       "       Congruent  Incongruent         xd\n",
       "count  22.000000    22.000000  22.000000\n",
       "mean   13.939000    20.856318  -6.917318\n",
       "std     3.592773     2.876923   3.400562\n",
       "min     8.630000    15.687000 -11.802000\n",
       "25%    11.527750    18.668250  -9.857500\n",
       "50%    14.356500    20.820000  -7.128000\n",
       "75%    15.827500    22.641750  -3.482500\n",
       "max    22.328000    26.282000  -1.950000"
      ]
     },
     "execution_count": 30,
     "metadata": {},
     "output_type": "execute_result"
    }
   ],
   "source": [
    "df_clean.describe()"
   ]
  },
  {
   "cell_type": "markdown",
   "metadata": {},
   "source": [
    "## 3.2推论性统计结果"
   ]
  },
  {
   "cell_type": "markdown",
   "metadata": {},
   "source": [
    "t(21)= -9.54, p<.05, two-tailed\n",
    "\n",
    "Confidence interval on the mean difference (Congruent - Incongruent);\n",
    "\n",
    "95% CI = (-8,-5)\n",
    "\n",
    "d = - 2.03\n",
    "\n",
    "$r^2$ = .81\n"
   ]
  },
  {
   "cell_type": "markdown",
   "metadata": {},
   "source": [
    "## 3.3结论"
   ]
  },
  {
   "cell_type": "markdown",
   "metadata": {},
   "source": [
    "两种文字条件下，测试的反应时间总体均值具有显著差异，\n",
    "置信水平95%条件下，平均下来，Congruent组的反应时间要比Incongruent组的快 5.4 到 8.4 秒，\n",
    "且 81.26% 的时间差异是由颜色与文字不一致条件带来的"
   ]
  },
  {
   "cell_type": "markdown",
   "metadata": {},
   "source": [
    "## 3.4解释"
   ]
  },
  {
   "cell_type": "markdown",
   "metadata": {},
   "source": [
    "我的解释如下，从输入输出来看\n",
    ">__输入__：带有文字的颜色（或者说：__文字__ 和 __颜色__ 两个信息）\n",
    "\n",
    ">__输出__：用话语表示出颜色（或者说：识别出 __颜色__ 信息，并用语言描述）\n",
    "\n",
    "首先，受试者同时接受到文字和文字颜色的信息（无论哪种情况）\n",
    "\n",
    "那么，在一致文字条件下，受试者是知道这个文字和颜色是代表同一个输出的，无论受试者是先识别出颜色还是先识别出文字，最终只需将颜色或者文字信息通过语言念出即可，两者是一致的，即：文字指代颜色，颜色也指代文字，不干扰,相互促进，看受试者各自大脑先识别出哪一个，然后将其转换为语言表达即可。\n",
    "\n",
    "\n",
    "而在文字不一致情况下，颜色信息和文字信息并不一致，两者是相互干扰的，即：受试者需识别颜色，在头脑中先将颜色信息转换成对应的文字，同时，还要排除当前文字的干扰，反应时间相比第一种情况，会慢些。\n"
   ]
  },
  {
   "cell_type": "markdown",
   "metadata": {},
   "source": [
    "__如何验证？__\n",
    "\n",
    "这里我想设计三组试验来验证是否是文字信息干扰到了人们识别颜色\n",
    "\n",
    "测试者分为两类，一类测试者是不懂英文的，另一类测试者是懂英文的\n",
    "\n",
    "注：英文也可以换成其他文字\n",
    "\n",
    "第一组：不懂英文组，同时测试文字一致和不一致情况下的时间，看两者均值是否有显著差异\n",
    "\n",
    "第二组：懂英文组，文字的颜色全部为同一种（比如，所有文字全为黑色，排除颜色的干扰），让他们念出英文即可。测试，文字识别所用时间\n",
    "\n",
    "第三组：懂英文组，测试文字与颜色一致条件和不一致条件下所用时间，这个结果已经有了（斯特鲁普试验数据）\n",
    "\n",
    "\n",
    "这样我们就可以对比，单独识别颜色，单独识别文字，和混合识别颜色与文字信息所耗费时间，来判断大多数人对两个信息的识别速度，以及相互干扰情况"
   ]
  },
  {
   "cell_type": "markdown",
   "metadata": {},
   "source": [
    "# 4、参考资料"
   ]
  },
  {
   "cell_type": "markdown",
   "metadata": {},
   "source": [
    "[t检验假设前提](http://www.csic.cornell.edu/Elrod/t-test/t-test-assumptions.html)\n",
    "\n",
    "[优达学城统计学项目：测试心理学现象](https://zhuanlan.zhihu.com/p/32560644)\n",
    "\n",
    "[Jupyter Notebook 数学公式](https://blog.csdn.net/smilejiasmile/article/details/80670742)"
   ]
  }
 ],
 "metadata": {
  "kernelspec": {
   "display_name": "Python 2",
   "language": "python",
   "name": "python2"
  },
  "language_info": {
   "codemirror_mode": {
    "name": "ipython",
    "version": 2
   },
   "file_extension": ".py",
   "mimetype": "text/x-python",
   "name": "python",
   "nbconvert_exporter": "python",
   "pygments_lexer": "ipython2",
   "version": "2.7.13"
  }
 },
 "nbformat": 4,
 "nbformat_minor": 2
}
